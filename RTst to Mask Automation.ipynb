{
 "cells": [
  {
   "cell_type": "markdown",
   "id": "22a9a87d",
   "metadata": {},
   "source": [
    "# Rtst to Mask Automation Tutorial"
   ]
  },
  {
   "cell_type": "markdown",
   "id": "ad28dd40",
   "metadata": {},
   "source": [
    "**Step 1:** Import necessary packages & define necessary functions. \n",
    "\n",
    "*Just run these cells as they are.*"
   ]
  },
  {
   "cell_type": "code",
   "execution_count": 23,
   "id": "ce60fa50",
   "metadata": {},
   "outputs": [],
   "source": [
    "import os\n",
    "import numpy as np\n",
    "import pydicom\n",
    "import matplotlib.pyplot as plt\n",
    "from rt_utils import RTStructBuilder"
   ]
  },
  {
   "cell_type": "code",
   "execution_count": 29,
   "id": "4e52f43f",
   "metadata": {},
   "outputs": [],
   "source": [
    "# Finds all RTStruct file paths in a given directory structure & organizes them by patient\n",
    "def find_rtstructs(root_dir):\n",
    "    patient_paths = []\n",
    "\n",
    "    for dirpath, dirnames, filenames in os.walk(root_dir):\n",
    "        # Look for an RT Structure file in a folder that seems to be an RTst folder\n",
    "        if \"RTst\" in dirpath or any(\"RTst\" in part for part in dirpath.split(os.sep)):\n",
    "            for filename in filenames:\n",
    "                if filename.endswith(\".dcm\"):\n",
    "                    rt_struct_path = os.path.join(dirpath, filename)\n",
    "\n",
    "                    # dicom_series_path is one folder above the RTst folder\n",
    "                    rtst_folder = os.path.basename(dirpath)\n",
    "                    one_above_rtst = os.path.dirname(dirpath)\n",
    "\n",
    "                    # Get patient label as folder directly under root_dir\n",
    "                    relative_path = os.path.relpath(one_above_rtst, root_dir)\n",
    "                    patient_label = relative_path.split(os.sep)[0]\n",
    "\n",
    "                    # Save paths and label\n",
    "                    patient_paths.append({\n",
    "                        \"patient_label\": patient_label,\n",
    "                        \"dicom_series_path\": one_above_rtst,\n",
    "                        \"rt_struct_path\": rt_struct_path\n",
    "                    })\n",
    "                    break  # stop after first DICOM file found in that RTst folder\n",
    "\n",
    "    return patient_paths\n"
   ]
  },
  {
   "cell_type": "code",
   "execution_count": null,
   "id": "72488067",
   "metadata": {},
   "outputs": [],
   "source": [
    "# Build RTStruct objects from the patient paths\n",
    "def build_rtstruct_objects(patient_paths):\n",
    "    rtstruct_objects = []\n",
    "    for p in patient_paths:\n",
    "        rt = RTStructBuilder.create_from(\n",
    "            dicom_series_path=p[\"dicom_series_path\"],\n",
    "            rt_struct_path=p[\"rt_struct_path\"]\n",
    "        )\n",
    "        rtstruct_objects.append({\n",
    "            \"patient_label\": p[\"patient_label\"],\n",
    "            \"rtstruct\": rt\n",
    "        })\n",
    "    return rtstruct_objects"
   ]
  },
  {
   "cell_type": "code",
   "execution_count": 27,
   "id": "89aae4ed",
   "metadata": {},
   "outputs": [],
   "source": [
    "def print_patient_rois(rtstruct_objects):\n",
    "    for obj in rtstruct_objects:\n",
    "        patient_label = obj[\"patient_label\"]\n",
    "        rtstruct = obj[\"rtstruct\"]\n",
    "\n",
    "        roi_names = rtstruct.get_roi_names()\n",
    "        roi_list_str = \", \".join(roi_names)\n",
    "        print(f\"{patient_label}: {roi_list_str}\")"
   ]
  },
  {
   "cell_type": "markdown",
   "id": "bd56fdad",
   "metadata": {},
   "source": [
    "**Step 2:** Define your own path to your folder of patient data. Use 'find_rtstructs' function to find RTst file paths for each patient. Then, use 'build_rtstruct_objects' function to turn all of your RTst dicoms into RTutil objects. Finally, use the 'print_patient_rois' function to print out lists of each of all the ROI structures for each patient.\n",
    "\n",
    "*The only thing you need to change here is the path to your patient folder.*"
   ]
  },
  {
   "cell_type": "code",
   "execution_count": 28,
   "id": "0bd88708",
   "metadata": {},
   "outputs": [
    {
     "name": "stdout",
     "output_type": "stream",
     "text": [
      "Patient_0001: Spinal Cord, Outer Contour, trachea, LUL ITV, LUL PTV, Lung, Right, Heart, esophagus, Lung, Left, prox bronchus, Total Lung, 2 cm shell, Skin\n",
      "Patient_0003: O_Vessel, O_Skin, PTV_ 2cm, CouchSurface, CouchInterior, NS_Artifact, O_Trca, P_RML_54, I_RML_54, O_Lung_Tt, O_Brnc, O_Chst_Wl, Body, O_Esgs, O_Lung_Lt, O_Hrt, O_Lung_Rt, O_Cord\n",
      "Patient_0004: BODY, NS_Artifact, TS_High, TS_Low, O_Brnc, O_CW, PTV_5000, Union_ITV, PRV_Gvess, Great vess, ITV4, ITV3, ITV2, ITV1, O_Trca, O_Lung_R, O_Lung_Lt, O_Hrt, O_Esgs, O_Cord, CouchSurface, CouchInterior, O_Skin, TS_ITV, D2cm, O_Lung_Tt, O_Ribs\n"
     ]
    }
   ],
   "source": [
    "patient_root_folder_path = r\"C:\\Users\\isabe\\OneDrive\\Desktop\\Lauria Lab\\ML Clinical Endpoint Prediction\\Dosimetry\"\n",
    "patient_paths = find_rtstructs(patient_root_folder_path)\n",
    "rtstruct_objects = build_rtstruct_objects(patient_paths)\n",
    "print_patient_rois(rtstruct_objects)\n"
   ]
  },
  {
   "cell_type": "markdown",
   "id": "84e5fcdf",
   "metadata": {},
   "source": [
    "**Step 3:** Select which ROI structure you want to convert into a mask from the printed list that outputs from Step 2. "
   ]
  },
  {
   "cell_type": "markdown",
   "id": "c310777c",
   "metadata": {},
   "source": []
  }
 ],
 "metadata": {
  "kernelspec": {
   "display_name": "pyradiomics_env",
   "language": "python",
   "name": "python3"
  },
  "language_info": {
   "codemirror_mode": {
    "name": "ipython",
    "version": 3
   },
   "file_extension": ".py",
   "mimetype": "text/x-python",
   "name": "python",
   "nbconvert_exporter": "python",
   "pygments_lexer": "ipython3",
   "version": "3.11.9"
  }
 },
 "nbformat": 4,
 "nbformat_minor": 5
}
