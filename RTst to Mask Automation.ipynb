{
 "cells": [
  {
   "cell_type": "markdown",
   "id": "22a9a87d",
   "metadata": {},
   "source": [
    "# Rtst to Mask Automation Tutorial"
   ]
  },
  {
   "cell_type": "markdown",
   "id": "ad28dd40",
   "metadata": {},
   "source": [
    "**Step 1:** Import necessary packages & define necessary functions. \n",
    "\n",
    "*Just run these cells as they are.*"
   ]
  },
  {
   "cell_type": "code",
   "execution_count": 1,
   "id": "ce60fa50",
   "metadata": {},
   "outputs": [],
   "source": [
    "import os\n",
    "import numpy as np\n",
    "import pydicom\n",
    "import matplotlib.pyplot as plt\n",
    "from rt_utils import RTStructBuilder"
   ]
  },
  {
   "cell_type": "code",
   "execution_count": 2,
   "id": "4e52f43f",
   "metadata": {},
   "outputs": [],
   "source": [
    "# Finds all RTStruct file paths in a given directory structure & organizes them by patient\n",
    "def find_rtstructs(root_dir):\n",
    "    patient_paths = []\n",
    "\n",
    "    for dirpath, dirnames, filenames in os.walk(root_dir):\n",
    "        # Look for an RT Structure file in a folder that seems to be an RTst folder\n",
    "        if \"RTst\" in dirpath or any(\"RTst\" in part for part in dirpath.split(os.sep)):\n",
    "            for filename in filenames:\n",
    "                if filename.endswith(\".dcm\"):\n",
    "                    rt_struct_path = os.path.join(dirpath, filename)\n",
    "\n",
    "                    # dicom_series_path is one folder above the RTst folder\n",
    "                    rtst_folder = os.path.basename(dirpath)\n",
    "                    one_above_rtst = os.path.dirname(dirpath)\n",
    "\n",
    "                    # Get patient label as folder directly under root_dir\n",
    "                    relative_path = os.path.relpath(one_above_rtst, root_dir)\n",
    "                    patient_label = relative_path.split(os.sep)[0]\n",
    "\n",
    "                    # Save paths and label\n",
    "                    patient_paths.append({\n",
    "                        \"patient_label\": patient_label,\n",
    "                        \"dicom_series_path\": one_above_rtst,\n",
    "                        \"rt_struct_path\": rt_struct_path\n",
    "                    })\n",
    "                    break  # stop after first DICOM file found in that RTst folder\n",
    "\n",
    "    return patient_paths\n"
   ]
  },
  {
   "cell_type": "code",
   "execution_count": 3,
   "id": "72488067",
   "metadata": {},
   "outputs": [],
   "source": [
    "# Build RTStruct objects from the patient paths\n",
    "def build_rtstruct_objects(patient_paths):\n",
    "    rtstruct_objects = []\n",
    "    for p in patient_paths:\n",
    "        rt = RTStructBuilder.create_from(\n",
    "            dicom_series_path=p[\"dicom_series_path\"],\n",
    "            rt_struct_path=p[\"rt_struct_path\"]\n",
    "        )\n",
    "        rtstruct_objects.append({\n",
    "            \"patient_label\": p[\"patient_label\"],\n",
    "            \"rtstruct\": rt\n",
    "        })\n",
    "    return rtstruct_objects"
   ]
  },
  {
   "cell_type": "code",
   "execution_count": 4,
   "id": "89aae4ed",
   "metadata": {},
   "outputs": [],
   "source": [
    "def print_patient_rois(rtstruct_objects):\n",
    "    for idx, obj in enumerate(rtstruct_objects):\n",
    "        patient_label = obj[\"patient_label\"]\n",
    "        rtstruct = obj[\"rtstruct\"]\n",
    "\n",
    "        roi_names = rtstruct.get_roi_names()\n",
    "        roi_list_str = \", \".join(roi_names)\n",
    "        print(f\"{idx}: {patient_label}: {roi_list_str}\")"
   ]
  },
  {
   "cell_type": "markdown",
   "id": "bd56fdad",
   "metadata": {},
   "source": [
    "**Step 2:** Define your own path to your folder of patient data. Use 'find_rtstructs' function to find RTst file paths for each patient. Then, use 'build_rtstruct_objects' function to turn all of your RTst dicoms into RTutil objects. Finally, use the 'print_patient_rois' function to print out lists of each of all the ROI structures for each patient.\n",
    "\n",
    "*The only thing you need to change here is the path to your patient folder.*"
   ]
  },
  {
   "cell_type": "code",
   "execution_count": 5,
   "id": "0bd88708",
   "metadata": {},
   "outputs": [
    {
     "name": "stdout",
     "output_type": "stream",
     "text": [
      "0: Patient_0001: Spinal Cord, Outer Contour, trachea, LUL ITV, LUL PTV, Lung, Right, Heart, esophagus, Lung, Left, prox bronchus, Total Lung, 2 cm shell, Skin\n",
      "1: Patient_0003: O_Vessel, O_Skin, PTV_ 2cm, CouchSurface, CouchInterior, NS_Artifact, O_Trca, P_RML_54, I_RML_54, O_Lung_Tt, O_Brnc, O_Chst_Wl, Body, O_Esgs, O_Lung_Lt, O_Hrt, O_Lung_Rt, O_Cord\n",
      "2: Patient_0004: BODY, NS_Artifact, TS_High, TS_Low, O_Brnc, O_CW, PTV_5000, Union_ITV, PRV_Gvess, Great vess, ITV4, ITV3, ITV2, ITV1, O_Trca, O_Lung_R, O_Lung_Lt, O_Hrt, O_Esgs, O_Cord, CouchSurface, CouchInterior, O_Skin, TS_ITV, D2cm, O_Lung_Tt, O_Ribs\n"
     ]
    }
   ],
   "source": [
    "patient_root_folder_path = r\"C:\\Users\\isabe\\OneDrive\\Desktop\\Lauria Lab\\ML Clinical Endpoint Prediction\\Dosimetry\"\n",
    "patient_paths = find_rtstructs(patient_root_folder_path)\n",
    "rtstruct_objects = build_rtstruct_objects(patient_paths)\n",
    "print_patient_rois(rtstruct_objects)\n"
   ]
  },
  {
   "cell_type": "markdown",
   "id": "84e5fcdf",
   "metadata": {},
   "source": [
    "**Step 3:** Convert whatever ROI structure you want to convert into a mask from the printed list that outputs from Step 2. \n",
    "*Change the index number in the first set of brackets according to the printed list of outputs from Step 2. Then, copy the exact ROI name that you want to turn into a mask and paste into the \"\".*"
   ]
  },
  {
   "cell_type": "code",
   "execution_count": 7,
   "id": "5dd56de0",
   "metadata": {},
   "outputs": [],
   "source": [
    "mask = rtstruct_objects[0][\"rtstruct\"].get_roi_mask_by_name(\"LUL PTV\")"
   ]
  },
  {
   "cell_type": "markdown",
   "id": "85505d77",
   "metadata": {},
   "source": [
    "**Step 4:** Check to make sure mask makes sense."
   ]
  },
  {
   "cell_type": "code",
   "execution_count": 11,
   "id": "4cc97fab",
   "metadata": {},
   "outputs": [],
   "source": [
    "def find_max_slice(mask_3d):\n",
    "    \"\"\"Find the slice with the maximum amount of non-zero pixels.\"\"\"\n",
    "    # Count non-zero pixels in each slice\n",
    "    nonzero_counts = [np.count_nonzero(mask_3d[i, :, :]) for i in range(mask_3d.shape[0])] # FOR DIFFERENT VIEWS: [CORONAL[0], SAGITTAL[1], AXIAL[2]]\n",
    "    # Find the index of the slice with the maximum non-zero pixels\n",
    "    max_slice_index = np.argmax(nonzero_counts)\n",
    "    \n",
    "    return max_slice_index"
   ]
  },
  {
   "cell_type": "code",
   "execution_count": 12,
   "id": "e8c8ed1a",
   "metadata": {},
   "outputs": [
    {
     "data": {
      "image/png": "[encoded data removed]",
      "text/plain": [
       "<Figure size 640x480 with 1 Axes>"
      ]
     },
     "metadata": {},
     "output_type": "display_data"
    }
   ],
   "source": [
    "# Find the slice with the maximum number of nonzero pixels in the mask\n",
    "max_PTV_slice = find_max_slice(mask)\n",
    "\n",
    "# Display one slice of the region\n",
    "plt.imshow(mask[max_PTV_slice, :, :], cmap='gray')\n",
    "plt.title(f\"PTV - Slice {max_PTV_slice}\")\n",
    "plt.show()"
   ]
  }
 ],
 "metadata": {
  "kernelspec": {
   "display_name": "pyradiomics_env",
   "language": "python",
   "name": "python3"
  },
  "language_info": {
   "codemirror_mode": {
    "name": "ipython",
    "version": 3
   },
   "file_extension": ".py",
   "mimetype": "text/x-python",
   "name": "python",
   "nbconvert_exporter": "python",
   "pygments_lexer": "ipython3",
   "version": "3.11.9"
  }
 },
 "nbformat": 4,
 "nbformat_minor": 5
}
